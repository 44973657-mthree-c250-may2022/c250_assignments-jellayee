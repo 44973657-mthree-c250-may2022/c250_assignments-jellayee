{
 "cells": [
  {
   "cell_type": "code",
   "execution_count": 49,
   "id": "aa1f21ca",
   "metadata": {},
   "outputs": [
    {
     "name": "stdout",
     "output_type": "stream",
     "text": [
      "This is the dictionary with the word counts:\n",
      "{'imagine': 1, 'a': 3, 'vast': 1, 'sheet': 1, 'of': 5, 'paper': 1, 'on': 2, 'which': 1, 'straight': 1, 'lines': 1, 'triangles': 1, 'squares': 1, 'pentagons': 1, 'hexagons': 1, 'and': 4, 'other': 1, 'figures': 1, 'instead': 1, 'remaining': 1, 'fixed': 1, 'in': 2, 'their': 1, 'places': 1, 'move': 1, 'freely': 1, 'about': 1, 'or': 2, 'the': 2, 'surface': 1, 'but': 2, 'without': 1, 'power': 1, 'rising': 1, 'above': 1, 'sinking': 1, 'below': 1, 'it': 1, 'very': 1, 'much': 1, 'like': 1, 'shadows': 1, 'only': 1, 'hard': 1, 'with': 1, 'luminous': 1, 'edges': 1, 'you': 1, 'will': 1, 'then': 1, 'have': 2, 'pretty': 1, 'correct': 1, 'notion': 1, 'my': 3, 'country': 1, 'countrymen': 1, 'alas': 1, 'few': 1, 'years': 1, 'ago': 1, 'i': 1, 'should': 1, 'said': 1, 'universe\"': 1, 'now': 1, 'mind': 1, 'has': 1, 'been': 1, 'opened': 1, 'to': 1, 'higher': 1, 'views': 1, 'things': 1}\n",
      "This is the number of distinct words in the original string: 73.\n"
     ]
    }
   ],
   "source": [
    "s = \"\"\"Imagine a vast sheet of paper on which straight Lines, Triangles, Squares, Pentagons, Hexagons, and other figures, instead of remaining fixed in their places, move freely about, on or in the surface, but without the power of rising above or sinking below it, very much like shadows - only hard and with luminous edges - and you will then have a pretty correct notion of my country and countrymen. Alas, a few years ago, I should have said \"my universe\": but now my mind has been opened to higher views of things.\"\"\"\n",
    " \n",
    "#do not change any code above this line\n",
    "#your code here\n",
    "\n",
    "# 1) Convert the string to lowercase characters.\n",
    "s_lower= s.lower()\n",
    "\n",
    "# 2) Split the lowercase string into individual words.\n",
    "words = list() \n",
    "words += (s_lower.split())\n",
    "\n",
    "# 3) Remove the punctuation from the lowercase words. Assume that all punctuation is either the first character or the last character of each item in the list.\n",
    "import string\n",
    "\n",
    "punctuation_list =  list(string.punctuation)  \n",
    " \n",
    "\n",
    "w_clean = list()\n",
    " \n",
    "\n",
    "for i in words:\n",
    "    if i == \"\":\n",
    "        pass\n",
    "    elif i in punctuation_list:\n",
    "        pass\n",
    "    elif (i[0] in punctuation_list):\n",
    "        w_clean.append(i[1:]) \n",
    "    elif (i[-1] in punctuation_list):\n",
    "        w_clean.append(i[:-1])\n",
    "    else:\n",
    "        w_clean.append(i)\n",
    "        \n",
    "# 4) Perform a count analysis on the words without punctuation characters.\n",
    "words_without_punctuation = dict()\n",
    "for word in w_clean:\n",
    "    if word not in words_without_punctuation:\n",
    "        words_without_punctuation[word] = 1\n",
    "    else:\n",
    "        words_without_punctuation[word] += 1\n",
    "\n",
    "\n",
    "print(f'This is the dictionary with the word counts:\\n{words_without_punctuation}')\n",
    "\n",
    "distinct_words = set(w_clean)\n",
    "print(f'This is the number of distinct words in the original string: {len(distinct_words)}.')"
   ]
  },
  {
   "cell_type": "code",
   "execution_count": null,
   "id": "8beaf6ef",
   "metadata": {},
   "outputs": [],
   "source": []
  }
 ],
 "metadata": {
  "kernelspec": {
   "display_name": "Python 3 (ipykernel)",
   "language": "python",
   "name": "python3"
  },
  "language_info": {
   "codemirror_mode": {
    "name": "ipython",
    "version": 3
   },
   "file_extension": ".py",
   "mimetype": "text/x-python",
   "name": "python",
   "nbconvert_exporter": "python",
   "pygments_lexer": "ipython3",
   "version": "3.9.12"
  }
 },
 "nbformat": 4,
 "nbformat_minor": 5
}

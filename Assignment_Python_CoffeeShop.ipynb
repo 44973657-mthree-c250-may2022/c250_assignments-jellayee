{
 "cells": [
  {
   "cell_type": "code",
   "execution_count": 11,
   "id": "5eddcade",
   "metadata": {},
   "outputs": [
    {
     "name": "stdout",
     "output_type": "stream",
     "text": [
      "Choose your size of cup: small, medium or large cup? large\n",
      "Choose your coffee type: brewed, expresso or cold brew? expresso\n",
      "Do you want flavoured syrup: Yes or No? yes\n",
      "Choose your flavour: hazelnut, vanilla or caramel? hazelnut\n",
      "You ordered a large of expresso with hazelnut syrup.\n",
      "Your cup of coffee is $4.5.\n",
      "The price including tip will be $5.17, thank you!\n"
     ]
    }
   ],
   "source": [
    "'''\n",
    "Name: Jeryl Yap\n",
    "Date: 25 May 2022\n",
    "''' \n",
    "\n",
    "size_cup = input('Choose your size of cup: small, medium or large cup? ').lower()\n",
    "coffee = input('Choose your coffee type: brewed, expresso or cold brew? ').lower()\n",
    "flavour = input('Do you want flavoured syrup: Yes or No? ').lower()\n",
    "if flavour == 'yes':\n",
    "    flavour= input('Choose your flavour: hazelnut, vanilla or caramel? ').lower()\n",
    "\n",
    "\n",
    "customer_order = 0\n",
    "if size_cup == 'small':\n",
    "    customer_order += 2\n",
    "elif size_cup == 'medium':\n",
    "    customer_order += 3\n",
    "elif size_cup == 'large':\n",
    "    customer_order += 4\n",
    "\n",
    "if coffee == 'brewed':\n",
    "    customer_order += 0\n",
    "elif coffee == 'espresso':\n",
    "    customer_order += 0.5\n",
    "elif coffee == 'cold brew':\n",
    "    customer_order += 1\n",
    "\n",
    "if flavour == 'None':\n",
    "    customer_order += 0 \n",
    "elif flavour == 'hazelnut' or flavour == 'vanilla' or flavour == 'caramel':\n",
    "    customer_order += 0.5\n",
    "\n",
    "print(f\"You ordered a {size_cup} of {coffee} with {flavour} syrup.\\nYour cup of coffee is ${customer_order}.\\nThe price including tip will be ${round(customer_order*1.15, 2)}, thank you!\")"
   ]
  },
  {
   "cell_type": "code",
   "execution_count": 23,
   "id": "dc1f72c7",
   "metadata": {},
   "outputs": [
    {
     "name": "stdout",
     "output_type": "stream",
     "text": [
      "Hi!\n",
      "Please enter your name: Jeryl\n"
     ]
    },
    {
     "ename": "NameError",
     "evalue": "name 'Print' is not defined",
     "output_type": "error",
     "traceback": [
      "\u001b[1;31m---------------------------------------------------------------------------\u001b[0m",
      "\u001b[1;31mNameError\u001b[0m                                 Traceback (most recent call last)",
      "Input \u001b[1;32mIn [23]\u001b[0m, in \u001b[0;36m<cell line: 7>\u001b[1;34m()\u001b[0m\n\u001b[0;32m      1\u001b[0m \u001b[38;5;28mprint\u001b[39m(\u001b[38;5;124m\"\u001b[39m\u001b[38;5;124mHi!\u001b[39m\u001b[38;5;124m\"\u001b[39m)\n\u001b[0;32m      4\u001b[0m \u001b[38;5;28minput\u001b[39m(\u001b[38;5;124m\"\u001b[39m\u001b[38;5;124mPlease enter your name: \u001b[39m\u001b[38;5;124m\"\u001b[39m)\n\u001b[1;32m----> 7\u001b[0m \u001b[43mPrint\u001b[49m(\u001b[38;5;124m\"\u001b[39m\u001b[38;5;124mMy name is Hal.\u001b[39m\u001b[38;5;124m\"\u001b[39m)\n\u001b[0;32m     11\u001b[0m Input(\u001b[38;5;124m\"\u001b[39m\u001b[38;5;124mPlease enter your age: \u001b[39m\u001b[38;5;124m\"\u001b[39m)\n",
      "\u001b[1;31mNameError\u001b[0m: name 'Print' is not defined"
     ]
    }
   ],
   "source": [
    "\n",
    "print(\"Hi!\")\n",
    "\n",
    "\n",
    "input(\"Please enter your name: \")\n",
    "\n",
    "\n",
    "Print(\"My name is Hal.\")\n",
    "\n",
    "\n",
    "\n",
    "Input(\"Please enter your age: \")"
   ]
  },
  {
   "cell_type": "code",
   "execution_count": 25,
   "id": "29850a1f",
   "metadata": {},
   "outputs": [
    {
     "name": "stdout",
     "output_type": "stream",
     "text": [
      "How many apples did you eat last week?6\n",
      "How many oranges did you each last week?10\n",
      "610\n"
     ]
    }
   ],
   "source": [
    "apples = input(\"How many apples did you eat last week?\")\n",
    "oranges = input(\"How many oranges did you each last week?\")\n",
    "total_fruit = apples + oranges\n",
    " \n",
    "print(total_fruit)"
   ]
  },
  {
   "cell_type": "code",
   "execution_count": 26,
   "id": "e5ff1950",
   "metadata": {},
   "outputs": [
    {
     "name": "stdout",
     "output_type": "stream",
     "text": [
      "Enter the name of the item: Flower Journal\n",
      "Enter the item price: 25.99\n",
      "Enter the quantity on hand for the item: 10\n",
      "25.9910\n"
     ]
    }
   ],
   "source": [
    "item_name = input(\"Enter the name of the item: \")\n",
    "item_price = input(\"Enter the item price: \")\n",
    "item_quantity_on_hand = input(\"Enter the quantity on hand for the item: \")\n",
    "on_hand_value = (item_price + item_quantity_on_hand)\n",
    "print(on_hand_value)"
   ]
  }
 ],
 "metadata": {
  "kernelspec": {
   "display_name": "Python 3 (ipykernel)",
   "language": "python",
   "name": "python3"
  },
  "language_info": {
   "codemirror_mode": {
    "name": "ipython",
    "version": 3
   },
   "file_extension": ".py",
   "mimetype": "text/x-python",
   "name": "python",
   "nbconvert_exporter": "python",
   "pygments_lexer": "ipython3",
   "version": "3.9.12"
  }
 },
 "nbformat": 4,
 "nbformat_minor": 5
}
